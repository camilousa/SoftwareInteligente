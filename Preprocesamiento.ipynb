{
  "nbformat": 4,
  "nbformat_minor": 0,
  "metadata": {
    "colab": {
      "name": "Preprocesamiento.ipynb",
      "provenance": [],
      "collapsed_sections": [],
      "authorship_tag": "ABX9TyNsit90nHxA0ST/mLYuObD6",
      "include_colab_link": true
    },
    "kernelspec": {
      "name": "python3",
      "display_name": "Python 3"
    },
    "language_info": {
      "name": "python"
    }
  },
  "cells": [
    {
      "cell_type": "markdown",
      "metadata": {
        "id": "view-in-github",
        "colab_type": "text"
      },
      "source": [
        "<a href=\"https://colab.research.google.com/github/camilousa/SoftwareInteligente/blob/master/Preprocesamiento.ipynb\" target=\"_parent\"><img src=\"https://colab.research.google.com/assets/colab-badge.svg\" alt=\"Open In Colab\"/></a>"
      ]
    },
    {
      "cell_type": "code",
      "execution_count": null,
      "metadata": {
        "id": "GvFGsAeX_xPh"
      },
      "outputs": [],
      "source": [
        "import pandas as pd\n",
        "from sklearn.model_selection import train_test_split\n",
        "from sklearn.impute import SimpleImputer\n",
        "from sklearn.pipeline import Pipeline\n",
        "from sklearn.compose import ColumnTransformer\n",
        "from sklearn.tree import DecisionTreeClassifier\n",
        "from sklearn.preprocessing import MinMaxScaler\n",
        "from sklearn.preprocessing import OneHotEncoder\n",
        "from sklearn.model_selection import cross_validate\n",
        "import numpy as np"
      ]
    },
    {
      "cell_type": "code",
      "source": [
        "df = pd.read_csv(\"https://raw.githubusercontent.com/corredor-john/universidadsergioarboleda/main/datasetJC/TitanicData.csv\")"
      ],
      "metadata": {
        "id": "JShEqgZdAM3g"
      },
      "execution_count": null,
      "outputs": []
    },
    {
      "cell_type": "code",
      "source": [
        "train, test = train_test_split(df, test_size=0.3, random_state=42)"
      ],
      "metadata": {
        "id": "WalzublhAP7M"
      },
      "execution_count": null,
      "outputs": []
    },
    {
      "cell_type": "code",
      "source": [
        "train.info()"
      ],
      "metadata": {
        "colab": {
          "base_uri": "https://localhost:8080/"
        },
        "id": "NMuoW9ZOAdzw",
        "outputId": "915ee4eb-c14f-45e2-a89b-506fd7d34b42"
      },
      "execution_count": null,
      "outputs": [
        {
          "output_type": "stream",
          "name": "stdout",
          "text": [
            "<class 'pandas.core.frame.DataFrame'>\n",
            "Int64Index: 292 entries, 118 to 102\n",
            "Data columns (total 12 columns):\n",
            " #   Column       Non-Null Count  Dtype  \n",
            "---  ------       --------------  -----  \n",
            " 0   PassengerId  292 non-null    int64  \n",
            " 1   Survived     292 non-null    int64  \n",
            " 2   Pclass       292 non-null    int64  \n",
            " 3   Name         292 non-null    object \n",
            " 4   Sex          292 non-null    object \n",
            " 5   Age          231 non-null    float64\n",
            " 6   SibSp        292 non-null    int64  \n",
            " 7   Parch        292 non-null    int64  \n",
            " 8   Ticket       292 non-null    object \n",
            " 9   Fare         291 non-null    float64\n",
            " 10  Cabin        69 non-null     object \n",
            " 11  Embarked     292 non-null    object \n",
            "dtypes: float64(2), int64(5), object(5)\n",
            "memory usage: 29.7+ KB\n"
          ]
        }
      ]
    },
    {
      "cell_type": "markdown",
      "source": [
        "Preprocesamiento"
      ],
      "metadata": {
        "id": "9Uvz-b3YKrIN"
      }
    },
    {
      "cell_type": "code",
      "source": [
        "imputer1 = SimpleImputer(strategy='mean')"
      ],
      "metadata": {
        "id": "3fFwyuQ9Kt0c"
      },
      "execution_count": null,
      "outputs": []
    },
    {
      "cell_type": "code",
      "source": [
        "imputer1.fit(train[['Age']])"
      ],
      "metadata": {
        "colab": {
          "base_uri": "https://localhost:8080/"
        },
        "id": "gU2Hc92GLZxG",
        "outputId": "aae5c1da-f1ed-4518-a3af-3a9dea6113fd"
      },
      "execution_count": null,
      "outputs": [
        {
          "output_type": "execute_result",
          "data": {
            "text/plain": [
              "SimpleImputer()"
            ]
          },
          "metadata": {},
          "execution_count": 6
        }
      ]
    },
    {
      "cell_type": "code",
      "source": [
        "imputer2 = SimpleImputer(strategy='median')\n",
        "imputer2.fit(train[['Fare']])"
      ],
      "metadata": {
        "colab": {
          "base_uri": "https://localhost:8080/"
        },
        "id": "ni2iquZpOPbJ",
        "outputId": "c15ec18d-bf57-4d67-9efd-ede77a90e2b2"
      },
      "execution_count": null,
      "outputs": [
        {
          "output_type": "execute_result",
          "data": {
            "text/plain": [
              "SimpleImputer(strategy='median')"
            ]
          },
          "metadata": {},
          "execution_count": 7
        }
      ]
    },
    {
      "cell_type": "code",
      "source": [
        "train[['Age']] = imputer1.transform(train[['Age']])\n",
        "# opción 2 imputer.transform(train[['Age']], copy=False)"
      ],
      "metadata": {
        "id": "k2io3pl3Lybs"
      },
      "execution_count": null,
      "outputs": []
    },
    {
      "cell_type": "code",
      "source": [
        "train.info()"
      ],
      "metadata": {
        "colab": {
          "base_uri": "https://localhost:8080/"
        },
        "id": "QL4UnFiiPwp-",
        "outputId": "dff0e75c-7714-42a4-a172-5221729b4759"
      },
      "execution_count": null,
      "outputs": [
        {
          "output_type": "stream",
          "name": "stdout",
          "text": [
            "<class 'pandas.core.frame.DataFrame'>\n",
            "Int64Index: 292 entries, 118 to 102\n",
            "Data columns (total 12 columns):\n",
            " #   Column       Non-Null Count  Dtype  \n",
            "---  ------       --------------  -----  \n",
            " 0   PassengerId  292 non-null    int64  \n",
            " 1   Survived     292 non-null    int64  \n",
            " 2   Pclass       292 non-null    int64  \n",
            " 3   Name         292 non-null    object \n",
            " 4   Sex          292 non-null    object \n",
            " 5   Age          292 non-null    float64\n",
            " 6   SibSp        292 non-null    int64  \n",
            " 7   Parch        292 non-null    int64  \n",
            " 8   Ticket       292 non-null    object \n",
            " 9   Fare         291 non-null    float64\n",
            " 10  Cabin        69 non-null     object \n",
            " 11  Embarked     292 non-null    object \n",
            "dtypes: float64(2), int64(5), object(5)\n",
            "memory usage: 29.7+ KB\n"
          ]
        }
      ]
    },
    {
      "cell_type": "code",
      "source": [
        "X_train = train.drop('Survived', axis=1)\n",
        "y_train = train['Survived']"
      ],
      "metadata": {
        "id": "KEA5xsf3Tdpc"
      },
      "execution_count": null,
      "outputs": []
    },
    {
      "cell_type": "code",
      "source": [
        "column_transformer = ColumnTransformer(\n",
        "    [(\"imputación con promedio\", SimpleImputer(strategy='mean'), ['Age', 'Fare']),\n",
        "     (\"imputación con moda\", SimpleImputer(strategy='most_frequent'), ['SibSp', \n",
        "                                                                       'Parch', 'Pclass']),\n",
        "     (\"eliminar\",'drop', ['PassengerId', 'Cabin', 'Ticket', 'Name']),\n",
        "    ], remainder='passthrough'\n",
        ")"
      ],
      "metadata": {
        "id": "qrAZDfgeMn4n"
      },
      "execution_count": null,
      "outputs": []
    },
    {
      "cell_type": "code",
      "source": [
        "column_transformer2 = ColumnTransformer(\n",
        "    [\n",
        "     (\"Escalado con minmax\", MinMaxScaler(),[0, 1, 2, 3]),\n",
        "     \n",
        "    ], remainder='passthrough'\n",
        ")"
      ],
      "metadata": {
        "id": "AX8RhHwslmtt"
      },
      "execution_count": null,
      "outputs": []
    },
    {
      "cell_type": "code",
      "source": [
        "column_transformer3 = ColumnTransformer(\n",
        "    [\n",
        "     (\"Categóricos a numérico\", OneHotEncoder(),[5, 6]),\n",
        "     \n",
        "    ], remainder='passthrough'\n",
        ")"
      ],
      "metadata": {
        "id": "d9PbqBwLmPTV"
      },
      "execution_count": null,
      "outputs": []
    },
    {
      "cell_type": "code",
      "source": [
        ""
      ],
      "metadata": {
        "id": "Ts_3vYDLm0DN"
      },
      "execution_count": null,
      "outputs": []
    },
    {
      "cell_type": "code",
      "source": [
        "pipeline = Pipeline([('Paso 1 Imputación', column_transformer), \n",
        "                     ('Paso 2 escalado', column_transformer2),\n",
        "                     ('Paso 3 categorico', column_transformer3)\n",
        "                     ])"
      ],
      "metadata": {
        "id": "vLhg-CkwRWgH"
      },
      "execution_count": null,
      "outputs": []
    },
    {
      "cell_type": "code",
      "source": [
        "X_train_transformed = pipeline.fit_transform(X_train)"
      ],
      "metadata": {
        "id": "5Rm_UKGpVgPO"
      },
      "execution_count": null,
      "outputs": []
    },
    {
      "cell_type": "code",
      "source": [
        "pd.DataFrame(X_train_transformed, columns=['Sex_female', 'Sex_male', \n",
        "                                           'Embarked_C', 'Embarked_Q', 'Embarked_S',\n",
        "                                           'Age', 'Fare', 'SibSp', 'Parch', 'Pclass'\n",
        "                                           ])"
      ],
      "metadata": {
        "colab": {
          "base_uri": "https://localhost:8080/",
          "height": 488
        },
        "id": "Y5WFG9NxsNji",
        "outputId": "6c222e05-5706-4452-fd5f-c24421fd5027"
      },
      "execution_count": null,
      "outputs": [
        {
          "output_type": "execute_result",
          "data": {
            "text/plain": [
              "    Sex_female Sex_male Embarked_C Embarked_Q Embarked_S       Age      Fare  \\\n",
              "0          0.0      1.0        1.0        0.0        0.0  0.471389  0.146862   \n",
              "1          0.0      1.0        0.0        1.0        0.0  0.405765  0.015127   \n",
              "2          1.0      0.0        0.0        0.0        1.0  0.828201  0.432884   \n",
              "3          0.0      1.0        1.0        0.0        0.0  0.286375  0.014102   \n",
              "4          0.0      1.0        1.0        0.0        0.0  0.696049  0.055628   \n",
              "..         ...      ...        ...        ...        ...       ...       ...   \n",
              "287        0.0      1.0        0.0        0.0        1.0   0.27316  0.015412   \n",
              "288        0.0      1.0        0.0        1.0        0.0   0.27316  0.015265   \n",
              "289        0.0      1.0        1.0        0.0        0.0  0.603542  0.146862   \n",
              "290        0.0      1.0        0.0        0.0        1.0  0.312806   0.02635   \n",
              "291        0.0      1.0        0.0        1.0        0.0  0.405765  0.015127   \n",
              "\n",
              "     SibSp Parch Pclass  \n",
              "0      0.0   0.0      1  \n",
              "1      0.0   0.0      3  \n",
              "2    0.125   0.0      1  \n",
              "3      0.0   0.0      3  \n",
              "4      0.0   0.0      1  \n",
              "..     ...   ...    ...  \n",
              "287    0.0   0.0      3  \n",
              "288    0.0   0.0      3  \n",
              "289    0.0   0.0      1  \n",
              "290    0.0   0.0      2  \n",
              "291    0.0   0.0      3  \n",
              "\n",
              "[292 rows x 10 columns]"
            ],
            "text/html": [
              "\n",
              "  <div id=\"df-b37f4590-8452-4ea2-b0ca-f31b13c7df1f\">\n",
              "    <div class=\"colab-df-container\">\n",
              "      <div>\n",
              "<style scoped>\n",
              "    .dataframe tbody tr th:only-of-type {\n",
              "        vertical-align: middle;\n",
              "    }\n",
              "\n",
              "    .dataframe tbody tr th {\n",
              "        vertical-align: top;\n",
              "    }\n",
              "\n",
              "    .dataframe thead th {\n",
              "        text-align: right;\n",
              "    }\n",
              "</style>\n",
              "<table border=\"1\" class=\"dataframe\">\n",
              "  <thead>\n",
              "    <tr style=\"text-align: right;\">\n",
              "      <th></th>\n",
              "      <th>Sex_female</th>\n",
              "      <th>Sex_male</th>\n",
              "      <th>Embarked_C</th>\n",
              "      <th>Embarked_Q</th>\n",
              "      <th>Embarked_S</th>\n",
              "      <th>Age</th>\n",
              "      <th>Fare</th>\n",
              "      <th>SibSp</th>\n",
              "      <th>Parch</th>\n",
              "      <th>Pclass</th>\n",
              "    </tr>\n",
              "  </thead>\n",
              "  <tbody>\n",
              "    <tr>\n",
              "      <th>0</th>\n",
              "      <td>0.0</td>\n",
              "      <td>1.0</td>\n",
              "      <td>1.0</td>\n",
              "      <td>0.0</td>\n",
              "      <td>0.0</td>\n",
              "      <td>0.471389</td>\n",
              "      <td>0.146862</td>\n",
              "      <td>0.0</td>\n",
              "      <td>0.0</td>\n",
              "      <td>1</td>\n",
              "    </tr>\n",
              "    <tr>\n",
              "      <th>1</th>\n",
              "      <td>0.0</td>\n",
              "      <td>1.0</td>\n",
              "      <td>0.0</td>\n",
              "      <td>1.0</td>\n",
              "      <td>0.0</td>\n",
              "      <td>0.405765</td>\n",
              "      <td>0.015127</td>\n",
              "      <td>0.0</td>\n",
              "      <td>0.0</td>\n",
              "      <td>3</td>\n",
              "    </tr>\n",
              "    <tr>\n",
              "      <th>2</th>\n",
              "      <td>1.0</td>\n",
              "      <td>0.0</td>\n",
              "      <td>0.0</td>\n",
              "      <td>0.0</td>\n",
              "      <td>1.0</td>\n",
              "      <td>0.828201</td>\n",
              "      <td>0.432884</td>\n",
              "      <td>0.125</td>\n",
              "      <td>0.0</td>\n",
              "      <td>1</td>\n",
              "    </tr>\n",
              "    <tr>\n",
              "      <th>3</th>\n",
              "      <td>0.0</td>\n",
              "      <td>1.0</td>\n",
              "      <td>1.0</td>\n",
              "      <td>0.0</td>\n",
              "      <td>0.0</td>\n",
              "      <td>0.286375</td>\n",
              "      <td>0.014102</td>\n",
              "      <td>0.0</td>\n",
              "      <td>0.0</td>\n",
              "      <td>3</td>\n",
              "    </tr>\n",
              "    <tr>\n",
              "      <th>4</th>\n",
              "      <td>0.0</td>\n",
              "      <td>1.0</td>\n",
              "      <td>1.0</td>\n",
              "      <td>0.0</td>\n",
              "      <td>0.0</td>\n",
              "      <td>0.696049</td>\n",
              "      <td>0.055628</td>\n",
              "      <td>0.0</td>\n",
              "      <td>0.0</td>\n",
              "      <td>1</td>\n",
              "    </tr>\n",
              "    <tr>\n",
              "      <th>...</th>\n",
              "      <td>...</td>\n",
              "      <td>...</td>\n",
              "      <td>...</td>\n",
              "      <td>...</td>\n",
              "      <td>...</td>\n",
              "      <td>...</td>\n",
              "      <td>...</td>\n",
              "      <td>...</td>\n",
              "      <td>...</td>\n",
              "      <td>...</td>\n",
              "    </tr>\n",
              "    <tr>\n",
              "      <th>287</th>\n",
              "      <td>0.0</td>\n",
              "      <td>1.0</td>\n",
              "      <td>0.0</td>\n",
              "      <td>0.0</td>\n",
              "      <td>1.0</td>\n",
              "      <td>0.27316</td>\n",
              "      <td>0.015412</td>\n",
              "      <td>0.0</td>\n",
              "      <td>0.0</td>\n",
              "      <td>3</td>\n",
              "    </tr>\n",
              "    <tr>\n",
              "      <th>288</th>\n",
              "      <td>0.0</td>\n",
              "      <td>1.0</td>\n",
              "      <td>0.0</td>\n",
              "      <td>1.0</td>\n",
              "      <td>0.0</td>\n",
              "      <td>0.27316</td>\n",
              "      <td>0.015265</td>\n",
              "      <td>0.0</td>\n",
              "      <td>0.0</td>\n",
              "      <td>3</td>\n",
              "    </tr>\n",
              "    <tr>\n",
              "      <th>289</th>\n",
              "      <td>0.0</td>\n",
              "      <td>1.0</td>\n",
              "      <td>1.0</td>\n",
              "      <td>0.0</td>\n",
              "      <td>0.0</td>\n",
              "      <td>0.603542</td>\n",
              "      <td>0.146862</td>\n",
              "      <td>0.0</td>\n",
              "      <td>0.0</td>\n",
              "      <td>1</td>\n",
              "    </tr>\n",
              "    <tr>\n",
              "      <th>290</th>\n",
              "      <td>0.0</td>\n",
              "      <td>1.0</td>\n",
              "      <td>0.0</td>\n",
              "      <td>0.0</td>\n",
              "      <td>1.0</td>\n",
              "      <td>0.312806</td>\n",
              "      <td>0.02635</td>\n",
              "      <td>0.0</td>\n",
              "      <td>0.0</td>\n",
              "      <td>2</td>\n",
              "    </tr>\n",
              "    <tr>\n",
              "      <th>291</th>\n",
              "      <td>0.0</td>\n",
              "      <td>1.0</td>\n",
              "      <td>0.0</td>\n",
              "      <td>1.0</td>\n",
              "      <td>0.0</td>\n",
              "      <td>0.405765</td>\n",
              "      <td>0.015127</td>\n",
              "      <td>0.0</td>\n",
              "      <td>0.0</td>\n",
              "      <td>3</td>\n",
              "    </tr>\n",
              "  </tbody>\n",
              "</table>\n",
              "<p>292 rows × 10 columns</p>\n",
              "</div>\n",
              "      <button class=\"colab-df-convert\" onclick=\"convertToInteractive('df-b37f4590-8452-4ea2-b0ca-f31b13c7df1f')\"\n",
              "              title=\"Convert this dataframe to an interactive table.\"\n",
              "              style=\"display:none;\">\n",
              "        \n",
              "  <svg xmlns=\"http://www.w3.org/2000/svg\" height=\"24px\"viewBox=\"0 0 24 24\"\n",
              "       width=\"24px\">\n",
              "    <path d=\"M0 0h24v24H0V0z\" fill=\"none\"/>\n",
              "    <path d=\"M18.56 5.44l.94 2.06.94-2.06 2.06-.94-2.06-.94-.94-2.06-.94 2.06-2.06.94zm-11 1L8.5 8.5l.94-2.06 2.06-.94-2.06-.94L8.5 2.5l-.94 2.06-2.06.94zm10 10l.94 2.06.94-2.06 2.06-.94-2.06-.94-.94-2.06-.94 2.06-2.06.94z\"/><path d=\"M17.41 7.96l-1.37-1.37c-.4-.4-.92-.59-1.43-.59-.52 0-1.04.2-1.43.59L10.3 9.45l-7.72 7.72c-.78.78-.78 2.05 0 2.83L4 21.41c.39.39.9.59 1.41.59.51 0 1.02-.2 1.41-.59l7.78-7.78 2.81-2.81c.8-.78.8-2.07 0-2.86zM5.41 20L4 18.59l7.72-7.72 1.47 1.35L5.41 20z\"/>\n",
              "  </svg>\n",
              "      </button>\n",
              "      \n",
              "  <style>\n",
              "    .colab-df-container {\n",
              "      display:flex;\n",
              "      flex-wrap:wrap;\n",
              "      gap: 12px;\n",
              "    }\n",
              "\n",
              "    .colab-df-convert {\n",
              "      background-color: #E8F0FE;\n",
              "      border: none;\n",
              "      border-radius: 50%;\n",
              "      cursor: pointer;\n",
              "      display: none;\n",
              "      fill: #1967D2;\n",
              "      height: 32px;\n",
              "      padding: 0 0 0 0;\n",
              "      width: 32px;\n",
              "    }\n",
              "\n",
              "    .colab-df-convert:hover {\n",
              "      background-color: #E2EBFA;\n",
              "      box-shadow: 0px 1px 2px rgba(60, 64, 67, 0.3), 0px 1px 3px 1px rgba(60, 64, 67, 0.15);\n",
              "      fill: #174EA6;\n",
              "    }\n",
              "\n",
              "    [theme=dark] .colab-df-convert {\n",
              "      background-color: #3B4455;\n",
              "      fill: #D2E3FC;\n",
              "    }\n",
              "\n",
              "    [theme=dark] .colab-df-convert:hover {\n",
              "      background-color: #434B5C;\n",
              "      box-shadow: 0px 1px 3px 1px rgba(0, 0, 0, 0.15);\n",
              "      filter: drop-shadow(0px 1px 2px rgba(0, 0, 0, 0.3));\n",
              "      fill: #FFFFFF;\n",
              "    }\n",
              "  </style>\n",
              "\n",
              "      <script>\n",
              "        const buttonEl =\n",
              "          document.querySelector('#df-b37f4590-8452-4ea2-b0ca-f31b13c7df1f button.colab-df-convert');\n",
              "        buttonEl.style.display =\n",
              "          google.colab.kernel.accessAllowed ? 'block' : 'none';\n",
              "\n",
              "        async function convertToInteractive(key) {\n",
              "          const element = document.querySelector('#df-b37f4590-8452-4ea2-b0ca-f31b13c7df1f');\n",
              "          const dataTable =\n",
              "            await google.colab.kernel.invokeFunction('convertToInteractive',\n",
              "                                                     [key], {});\n",
              "          if (!dataTable) return;\n",
              "\n",
              "          const docLinkHtml = 'Like what you see? Visit the ' +\n",
              "            '<a target=\"_blank\" href=https://colab.research.google.com/notebooks/data_table.ipynb>data table notebook</a>'\n",
              "            + ' to learn more about interactive tables.';\n",
              "          element.innerHTML = '';\n",
              "          dataTable['output_type'] = 'display_data';\n",
              "          await google.colab.output.renderOutput(dataTable, element);\n",
              "          const docLink = document.createElement('div');\n",
              "          docLink.innerHTML = docLinkHtml;\n",
              "          element.appendChild(docLink);\n",
              "        }\n",
              "      </script>\n",
              "    </div>\n",
              "  </div>\n",
              "  "
            ]
          },
          "metadata": {},
          "execution_count": 111
        }
      ]
    },
    {
      "cell_type": "code",
      "source": [
        "X_train_transformed[0:3, :]"
      ],
      "metadata": {
        "colab": {
          "base_uri": "https://localhost:8080/"
        },
        "id": "HZvYLlXGrI0-",
        "outputId": "c2a89ec8-1765-4fe5-dc8e-1252cefac4d4"
      },
      "execution_count": null,
      "outputs": [
        {
          "output_type": "execute_result",
          "data": {
            "text/plain": [
              "array([[0.0, 1.0, 1.0, 0.0, 0.0, 0.4713889255979913, 0.1468620176246054,\n",
              "        0.0, 0.0, 1],\n",
              "       [0.0, 1.0, 0.0, 1.0, 0.0, 0.40576506441446314,\n",
              "        0.015126992566498259, 0.0, 0.0, 3],\n",
              "       [1.0, 0.0, 0.0, 0.0, 1.0, 0.8282014008193472, 0.4328841690069588,\n",
              "        0.125, 0.0, 1]], dtype=object)"
            ]
          },
          "metadata": {},
          "execution_count": 110
        }
      ]
    },
    {
      "cell_type": "code",
      "source": [
        "import joblib"
      ],
      "metadata": {
        "id": "NuW0-lzdsDrk"
      },
      "execution_count": null,
      "outputs": []
    },
    {
      "cell_type": "code",
      "source": [
        "joblib.dump(pipeline, \"pipeline.joblib\")"
      ],
      "metadata": {
        "colab": {
          "base_uri": "https://localhost:8080/"
        },
        "id": "qaVJeb0qujKR",
        "outputId": "31548f3a-330c-4a53-daf8-e887fc1a4c74"
      },
      "execution_count": null,
      "outputs": [
        {
          "output_type": "execute_result",
          "data": {
            "text/plain": [
              "['pipeline.joblib']"
            ]
          },
          "metadata": {},
          "execution_count": 126
        }
      ]
    },
    {
      "cell_type": "code",
      "source": [
        ""
      ],
      "metadata": {
        "id": "AhMQd5_Ku_UD"
      },
      "execution_count": null,
      "outputs": []
    }
  ]
}